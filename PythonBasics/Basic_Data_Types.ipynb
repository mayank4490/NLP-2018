{
 "cells": [
  {
   "cell_type": "markdown",
   "metadata": {},
   "source": [
    "# Some basic data-types\n",
    "\n",
    "Python provides number of compound datatypes often referred to as sequences. The most frequently used datatypes used in Python are as follows:\n",
    "\n",
    "- List\n",
    "- Set\n",
    "- Dict\n",
    "- Tuples\n",
    "\n",
    "We will give an example for each of the data-structures"
   ]
  },
  {
   "cell_type": "markdown",
   "metadata": {},
   "source": [
    "# List\n",
    "\n",
    "List is one of the most frequently used and very versatile datatype in Python.\n",
    "In python a list of elements is created by adding (appending) each element inside a square bracket `[ ]` separated by comma."
   ]
  },
  {
   "cell_type": "code",
   "execution_count": 25,
   "metadata": {
    "collapsed": false
   },
   "outputs": [
    {
     "name": "stdout",
     "output_type": "stream",
     "text": [
      "1\n",
      "2\n",
      "str-1\n",
      "str-2\n",
      "12.234\n",
      "45.22\n",
      "str-1\n"
     ]
    }
   ],
   "source": [
    "listL = [1, 2, 'str-1', 'str-2', 12.234, 45.22]\n",
    "\n",
    "listL.append('str-1')\n",
    "\n",
    "for ele in listL:\n",
    "    print ele\n",
    "    "
   ]
  },
  {
   "cell_type": "markdown",
   "metadata": {},
   "source": [
    "Note that a `list` can contain elements which can be of different `types`. Also, appending adds the elements to the last location. One of the other ways to print the elements of the list is as follows:"
   ]
  },
  {
   "cell_type": "code",
   "execution_count": 26,
   "metadata": {
    "collapsed": false
   },
   "outputs": [
    {
     "name": "stdout",
     "output_type": "stream",
     "text": [
      "1\n",
      "2\n",
      "str-1\n",
      "str-2\n",
      "12.234\n",
      "45.22\n",
      "str-1\n"
     ]
    }
   ],
   "source": [
    "for i in range(len(listL)):\n",
    "    print listL[i]\n"
   ]
  },
  {
   "cell_type": "markdown",
   "metadata": {},
   "source": [
    "## Negative indexing\n",
    "\n",
    "Python allows to use negative indices to access the elements of the list in the reverse order."
   ]
  },
  {
   "cell_type": "code",
   "execution_count": 27,
   "metadata": {
    "collapsed": false
   },
   "outputs": [
    {
     "name": "stdout",
     "output_type": "stream",
     "text": [
      "e\n",
      "p\n"
     ]
    }
   ],
   "source": [
    "my_list = ['p','r','o','b','e']\n",
    "\n",
    "# Output: e\n",
    "print(my_list[-1])\n",
    "\n",
    "# Output: p\n",
    "print(my_list[-5])"
   ]
  },
  {
   "cell_type": "markdown",
   "metadata": {},
   "source": [
    "To have a look at other methods that one can use to access elements or modify the list refer: https://docs.python.org/3/tutorial/datastructures.html#"
   ]
  },
  {
   "cell_type": "markdown",
   "metadata": {},
   "source": [
    "## Slicing the list\n",
    "\n",
    "To access only a specific range of indices of the list one can use the slicing technique."
   ]
  },
  {
   "cell_type": "code",
   "execution_count": 28,
   "metadata": {
    "collapsed": false
   },
   "outputs": [
    {
     "name": "stdout",
     "output_type": "stream",
     "text": [
      "['o', 'g', 'r']\n",
      "['p', 'r', 'o', 'g']\n",
      "['a', 'm', 'i', 'z']\n",
      "['p', 'r', 'o', 'g', 'r', 'a', 'm', 'i', 'z']\n"
     ]
    }
   ],
   "source": [
    "my_list = ['p','r','o','g','r','a','m','i','z']\n",
    "# elements 3rd to 5th\n",
    "print(my_list[2:5])\n",
    "\n",
    "# elements beginning to 4th\n",
    "print(my_list[:-5])\n",
    "\n",
    "# elements 6th to end\n",
    "print(my_list[5:])\n",
    "\n",
    "# elements beginning to end\n",
    "print(my_list[:])"
   ]
  },
  {
   "cell_type": "markdown",
   "metadata": {},
   "source": [
    "# Dictionary\n",
    "\n",
    "Dictionary is an unordered collection of items. Unlike other datatypes which contain only value as an element a dictionary stores the elements in pairs -- known as key:value pair.\n",
    "\n",
    "Dictionaries are optimized to retrieve values when the key is known.\n",
    "\n",
    "## Creating a dictionary:\n",
    "\n",
    "Creating a dictionary is as simple as placing elements as key-value pair in curly braces `{ }`."
   ]
  },
  {
   "cell_type": "code",
   "execution_count": 29,
   "metadata": {
    "collapsed": false
   },
   "outputs": [
    {
     "name": "stdout",
     "output_type": "stream",
     "text": [
      "{1: 'apple', 2: 'ball'}\n",
      "{1: [2, 4, 3], 'name': 'John'}\n",
      "{1: 'apple', 2: 'ball'}\n",
      "{1: 'apple', 2: 'ball'}\n"
     ]
    }
   ],
   "source": [
    "# empty dictionary\n",
    "my_dict = {}\n",
    "\n",
    "# dictionary with integer keys\n",
    "my_dict = {1: 'apple', 2: 'ball'}\n",
    "print my_dict\n",
    "\n",
    "# dictionary with mixed keys\n",
    "my_dict = {'name': 'John', 1: [2, 4, 3]}\n",
    "print my_dict\n",
    "\n",
    "# using dict()\n",
    "my_dict = dict({1:'apple', 2:'ball'})\n",
    "print my_dict\n",
    "\n",
    "# from sequence having each item as a pair\n",
    "my_dict = dict([(1,'apple'), (2,'ball')])\n",
    "print my_dict"
   ]
  },
  {
   "cell_type": "markdown",
   "metadata": {},
   "source": [
    "## Accessing elements of the dictionary\n",
    "\n",
    "Dictionary uses keys to index its elements.\n",
    "Key can be used either inside square brackets or with the `get()` method.\n",
    "\n",
    "The difference while using `get()` is that it returns `None` instead of `KeyError`, if the key is not found."
   ]
  },
  {
   "cell_type": "code",
   "execution_count": 30,
   "metadata": {
    "collapsed": false
   },
   "outputs": [
    {
     "name": "stdout",
     "output_type": "stream",
     "text": [
      "Jack\n",
      "26\n"
     ]
    }
   ],
   "source": [
    "my_dict = {'name':'Jack', 'age': 26}\n",
    "\n",
    "# Output: Jack\n",
    "print(my_dict['name'])\n",
    "\n",
    "# Output: 26\n",
    "print(my_dict.get('age'))\n",
    "\n",
    "# Trying to access keys which doesn't exist throws error\n",
    "# my_dict.get('address')\n",
    "# my_dict['address']"
   ]
  },
  {
   "cell_type": "markdown",
   "metadata": {},
   "source": [
    "## Delete or remove elements from the dictionary\n",
    "\n",
    "One can use the `pop()` method to remove a particular element from the dictionary. It takes a `key` as an argument to remove the element with the given `key` and returns the value at that `key`\n",
    "\n",
    "An other method that can be used to remove and return an arbitrary item `(key, value)` from the dictionary is the `popitem()` method. \n",
    "\n",
    "To remove all the elements of the dictionary use the `clear()` method.\n",
    "\n",
    "One can also use `del` keyword to remove entire dictionary or individual items."
   ]
  },
  {
   "cell_type": "code",
   "execution_count": 31,
   "metadata": {
    "collapsed": false
   },
   "outputs": [
    {
     "name": "stdout",
     "output_type": "stream",
     "text": [
      "16\n",
      "{1: 1, 2: 4, 3: 9, 5: 25}\n",
      "(1, 1)\n",
      "{2: 4, 3: 9, 5: 25}\n",
      "{2: 4, 3: 9}\n",
      "{}\n"
     ]
    }
   ],
   "source": [
    "# create a dictionary\n",
    "squares = {1:1, 2:4, 3:9, 4:16, 5:25}  \n",
    "\n",
    "# remove a particular item\n",
    "# Output: 16\n",
    "print(squares.pop(4))  \n",
    "\n",
    "# Output: {1: 1, 2: 4, 3: 9, 5: 25}\n",
    "print(squares)\n",
    "\n",
    "# remove an arbitrary item\n",
    "# Output: (1, 1)\n",
    "print(squares.popitem())\n",
    "\n",
    "# Output: {2: 4, 3: 9, 5: 25}\n",
    "print(squares)\n",
    "\n",
    "# delete a particular item\n",
    "del squares[5]  \n",
    "\n",
    "# Output: {2: 4, 3: 9}\n",
    "print(squares)\n",
    "\n",
    "# remove all items\n",
    "squares.clear()\n",
    "\n",
    "# Output: {}\n",
    "print(squares)\n",
    "\n",
    "# delete the dictionary itself\n",
    "del squares\n",
    "\n",
    "# Throws Error\n",
    "# print(squares)"
   ]
  },
  {
   "cell_type": "markdown",
   "metadata": {},
   "source": [
    "To refer to other methods to work with dictionary, here is the link: https://docs.python.org/3/tutorial/datastructures.html#dictionaries"
   ]
  },
  {
   "cell_type": "markdown",
   "metadata": {},
   "source": [
    "# Set\n",
    "\n",
    "Set is an unordered collection of **unique** elements. In a set the each element is stored only once. One can use Sets to perform mathematical operations such as **union**, **intersection**, **symmetric difference**, etc.\n",
    "\n",
    "## Creating a set\n",
    "\n",
    "One can create a set by adding elements inside curly braces `{ }`.\n",
    "The elements stored in the set can be of different types like `int`, `string`, `float`, etc. But a set cannot contains \"mutable\" elements like `list`, `dictionary`, etc. as its elements."
   ]
  },
  {
   "cell_type": "code",
   "execution_count": 32,
   "metadata": {
    "collapsed": false
   },
   "outputs": [
    {
     "name": "stdout",
     "output_type": "stream",
     "text": [
      "set([1, 2, 3])\n",
      "set([1.0, 'Hello', (1, 2, 3)])\n"
     ]
    }
   ],
   "source": [
    "# set of integers\n",
    "my_set = {1, 2, 3}\n",
    "print(my_set)\n",
    "\n",
    "# set of mixed datatypes\n",
    "my_set = {1.0, \"Hello\", (1, 2, 3)}\n",
    "print(my_set)"
   ]
  },
  {
   "cell_type": "markdown",
   "metadata": {},
   "source": [
    "## Updating a set\n",
    "\n",
    "Since the are sets are unordered, indexing has no meaning here.\n",
    "Therefore, one cannot use indexing or slicing to acces the elements of the sets.\n",
    "\n",
    "\n",
    "To add a single element in the set one can use `add()` method and to add multiple elements `update()` method can be used. While adding elements duplicates are avoided."
   ]
  },
  {
   "cell_type": "code",
   "execution_count": 33,
   "metadata": {
    "collapsed": false
   },
   "outputs": [
    {
     "name": "stdout",
     "output_type": "stream",
     "text": [
      "set([1, 3])\n",
      "set([1, 2, 3])\n",
      "set([1, 2, 3, 4])\n",
      "set([1, 2, 3, 4, 5, 6, 8])\n"
     ]
    }
   ],
   "source": [
    "# initialize my_set\n",
    "my_set = {1,3}\n",
    "print(my_set)\n",
    "\n",
    "# if you uncomment line 9,\n",
    "# you will get an error\n",
    "# TypeError: 'set' object does not support indexing\n",
    "\n",
    "#my_set[0]\n",
    "\n",
    "# add an element\n",
    "# Output: {1, 2, 3}\n",
    "my_set.add(2)\n",
    "print(my_set)\n",
    "\n",
    "# add multiple elements\n",
    "# Output: {1, 2, 3, 4}\n",
    "my_set.update([2,3,4])\n",
    "print(my_set)\n",
    "\n",
    "# add list and set\n",
    "# Output: {1, 2, 3, 4, 5, 6, 8}\n",
    "my_set.update([4,5], {1,6,8})\n",
    "print(my_set)"
   ]
  },
  {
   "cell_type": "markdown",
   "metadata": {},
   "source": [
    "## Removing elements from the set\n",
    "\n",
    "To remove/delete elements from the set one can use the `remove()` or `discard()` methods.\n",
    "\n",
    "If an element, that is to be removed, is not present in the set, `discard()` method would not change anything, where as the `remove()` method raises an error. \n",
    "\n",
    "Here is an example:"
   ]
  },
  {
   "cell_type": "code",
   "execution_count": 34,
   "metadata": {
    "collapsed": false
   },
   "outputs": [
    {
     "name": "stdout",
     "output_type": "stream",
     "text": [
      "set([1, 3, 4, 5, 6])\n",
      "set([1, 3, 5, 6])\n",
      "set([1, 3, 5])\n",
      "set([1, 3, 5])\n"
     ]
    }
   ],
   "source": [
    "# initialize my_set\n",
    "my_set = {1, 3, 4, 5, 6}\n",
    "print(my_set)\n",
    "\n",
    "# discard an element\n",
    "# Output: {1, 3, 5, 6}\n",
    "my_set.discard(4)\n",
    "print(my_set)\n",
    "\n",
    "# remove an element\n",
    "# Output: {1, 3, 5}\n",
    "my_set.remove(6)\n",
    "print(my_set)\n",
    "\n",
    "# discard an element\n",
    "# not present in my_set\n",
    "# Output: {1, 3, 5}\n",
    "my_set.discard(2)\n",
    "print(my_set)\n",
    "\n",
    "# remove an element\n",
    "# not present in my_set\n",
    "# If you uncomment line 27,\n",
    "# you will get an error.\n",
    "# Output: KeyError: 2\n",
    "\n",
    "#my_set.remove(2)"
   ]
  },
  {
   "cell_type": "markdown",
   "metadata": {},
   "source": [
    "## Set Operations\n",
    "\n",
    "- To perform union of two sets `A` and `B` use the operator `|` i.e. -- `(A | B)`\n",
    "- To perform intersection of two sets `A` and `B` use the operator `&` i.e. -- `(A & B)`\n",
    "- To perform difference of two sets `A` and `B` use the operator `-` i.e. -- `(A - B)`\n",
    "- To perform symmetric-difference of two sets `A` and `B` use the operator `^` i.e. -- `(A ^ B)`"
   ]
  },
  {
   "cell_type": "code",
   "execution_count": 35,
   "metadata": {
    "collapsed": false
   },
   "outputs": [
    {
     "name": "stdout",
     "output_type": "stream",
     "text": [
      "('Union = ', set([1, 2, 3, 4, 5, 6, 7, 8]))\n",
      "('Intersection = ', set([4, 5]))\n",
      "('Difference = ', set([1, 2, 3]))\n",
      "('Symmetric-Difference = ', set([1, 2, 3, 6, 7, 8]))\n"
     ]
    }
   ],
   "source": [
    "# Union\n",
    "\n",
    "# initialize A and B\n",
    "A = {1, 2, 3, 4, 5}\n",
    "B = {4, 5, 6, 7, 8}\n",
    "\n",
    "# use | operator\n",
    "# Output: {1, 2, 3, 4, 5, 6, 7, 8}\n",
    "print(\"Union = \", A | B)\n",
    "\n",
    "\n",
    "\n",
    "# Intersection\n",
    "\n",
    "# initialize A and B\n",
    "A = {1, 2, 3, 4, 5}\n",
    "B = {4, 5, 6, 7, 8}\n",
    "\n",
    "# use & operator\n",
    "# Output: {4, 5}\n",
    "print(\"Intersection = \", A & B)\n",
    "\n",
    "\n",
    "# Difference\n",
    "\n",
    "# initialize A and B\n",
    "A = {1, 2, 3, 4, 5}\n",
    "B = {4, 5, 6, 7, 8}\n",
    "\n",
    "# use - operator on A\n",
    "# Output: {1, 2, 3}\n",
    "print(\"Difference = \", A - B)\n",
    "\n",
    "\n",
    "# Symmetric-Difference\n",
    "\n",
    "# initialize A and B\n",
    "A = {1, 2, 3, 4, 5}\n",
    "B = {4, 5, 6, 7, 8}\n",
    "\n",
    "# use ^ operator\n",
    "# Output: {1, 2, 3, 6, 7, 8}\n",
    "print(\"Symmetric-Difference = \", A ^ B)\n"
   ]
  },
  {
   "cell_type": "markdown",
   "metadata": {},
   "source": [
    "To explore more about sets one can refer: https://docs.python.org/3/tutorial/datastructures.html#sets"
   ]
  },
  {
   "cell_type": "markdown",
   "metadata": {},
   "source": [
    "# Tuples\n",
    "\n",
    "As similar to the `lists`, `tuples` is a set of heterogenous elements. However, the difference between the two is that, once an element is added to the `tuple` it cannot be changed, whereas in `lists` the elements can be changed.\n",
    "\n",
    "## Creation of Tuples\n",
    "\n",
    "A tuple is created by placing all the items (elements) inside a parentheses `()`, separated by `comma`. Even though the  parentheses are optional, it is a good practice to write.\n",
    "\n",
    "As mentioned before a `tuple` can contain any number of elements and can be heterogenous -- (`integer`, `float`, `list`, `string` etc.).\n"
   ]
  },
  {
   "cell_type": "code",
   "execution_count": 36,
   "metadata": {
    "collapsed": false
   },
   "outputs": [
    {
     "name": "stdout",
     "output_type": "stream",
     "text": [
      "()\n",
      "(1, 2, 3)\n",
      "(1, 'Hello', 3.4)\n",
      "('mouse', [8, 4, 6], (1, 2, 3))\n",
      "(3, 4.6, 'dog')\n",
      "3\n",
      "4.6\n",
      "dog\n"
     ]
    }
   ],
   "source": [
    "# empty tuple\n",
    "# Output: ()\n",
    "my_tuple = ()\n",
    "print(my_tuple)\n",
    "\n",
    "# tuple having integers\n",
    "# Output: (1, 2, 3)\n",
    "my_tuple = (1, 2, 3)\n",
    "print(my_tuple)\n",
    "\n",
    "# tuple with mixed datatypes\n",
    "# Output: (1, \"Hello\", 3.4)\n",
    "my_tuple = (1, \"Hello\", 3.4)\n",
    "print(my_tuple)\n",
    "\n",
    "# nested tuple\n",
    "# Output: (\"mouse\", [8, 4, 6], (1, 2, 3))\n",
    "my_tuple = (\"mouse\", [8, 4, 6], (1, 2, 3))\n",
    "print(my_tuple)\n",
    "\n",
    "# tuple can be created without parentheses\n",
    "# also called tuple packing\n",
    "# Output: 3, 4.6, \"dog\"\n",
    "\n",
    "my_tuple = 3, 4.6, \"dog\"\n",
    "print(my_tuple)\n",
    "\n",
    "# tuple unpacking is also possible\n",
    "# Output:\n",
    "# 3\n",
    "# 4.6\n",
    "# dog\n",
    "a, b, c = my_tuple\n",
    "print(a)\n",
    "print(b)\n",
    "print(c)"
   ]
  },
  {
   "cell_type": "markdown",
   "metadata": {},
   "source": [
    "## Indexing in Tuples\n",
    "\n",
    "As similar to `lists` one can use square brackets `[ ]` to access an element.\n"
   ]
  },
  {
   "cell_type": "code",
   "execution_count": 37,
   "metadata": {
    "collapsed": false
   },
   "outputs": [
    {
     "name": "stdout",
     "output_type": "stream",
     "text": [
      "p\n",
      "t\n",
      "s\n",
      "4\n"
     ]
    }
   ],
   "source": [
    "my_tuple = ('p','e','r','m','i','t')\n",
    "\n",
    "# Output: 'p'\n",
    "print(my_tuple[0])\n",
    "\n",
    "# Output: 't'\n",
    "print(my_tuple[5])\n",
    "\n",
    "# index must be in range\n",
    "# If you uncomment line 14,\n",
    "# you will get an error.\n",
    "# IndexError: list index out of range\n",
    "\n",
    "#print(my_tuple[6])\n",
    "\n",
    "# index must be an integer\n",
    "# If you uncomment line 21,\n",
    "# you will get an error.\n",
    "# TypeError: list indices must be integers, not float\n",
    "\n",
    "#my_tuple[2.0]\n",
    "\n",
    "# nested tuple\n",
    "n_tuple = (\"mouse\", [8, 4, 6], (1, 2, 3))\n",
    "\n",
    "# nested index\n",
    "# Output: 's'\n",
    "print(n_tuple[0][3])\n",
    "\n",
    "# nested index\n",
    "# Output: 4\n",
    "print(n_tuple[1][1])"
   ]
  },
  {
   "cell_type": "markdown",
   "metadata": {},
   "source": [
    "## Negative Indexing and Slicing\n",
    "\n",
    "As similar to `lists` negative indexing and slicing is allowed for `tuples`.\n",
    "\n",
    "Index `-1` refers to the last item, `-2` to the second last item and so on.\n",
    "\n",
    "For slicing a `tuple` a `colon` **:** is used\n"
   ]
  },
  {
   "cell_type": "code",
   "execution_count": 38,
   "metadata": {
    "collapsed": false
   },
   "outputs": [
    {
     "name": "stdout",
     "output_type": "stream",
     "text": [
      "Negative Indexing\n",
      "t\n",
      "p\n",
      "Slicing output\n",
      "('r', 'o', 'g')\n",
      "('p', 'r')\n",
      "('i', 'z')\n",
      "('p', 'r', 'o', 'g', 'r', 'a', 'm', 'i', 'z')\n"
     ]
    }
   ],
   "source": [
    "my_tuple = ('p','e','r','m','i','t')\n",
    "\n",
    "print(\"Negative Indexing\")\n",
    "# Output: 't'\n",
    "print(my_tuple[-1])\n",
    "\n",
    "# Output: 'p'\n",
    "print(my_tuple[-6])\n",
    "\n",
    "\n",
    "# Slicing\n",
    "print(\"Slicing output\")\n",
    "my_tuple = ('p','r','o','g','r','a','m','i','z')\n",
    "\n",
    "# elements 2nd to 4th\n",
    "# Output: ('r', 'o', 'g')\n",
    "print(my_tuple[1:4])\n",
    "\n",
    "# elements beginning to 2nd\n",
    "# Output: ('p', 'r')\n",
    "print(my_tuple[:-7])\n",
    "\n",
    "# elements 8th to end\n",
    "# Output: ('i', 'z')\n",
    "print(my_tuple[7:])\n",
    "\n",
    "# elements beginning to end\n",
    "# Output: ('p', 'r', 'o', 'g', 'r', 'a', 'm', 'i', 'z')\n",
    "print(my_tuple[:])"
   ]
  },
  {
   "cell_type": "markdown",
   "metadata": {},
   "source": [
    "## Changing a Tuple\n",
    "\n",
    "Unlike lists, the elements of `tuples` cannot be changed (**immutable**).\n",
    "\n",
    "But, if the element is itself is a mutable datatype like list, its nested items can be changed.\n",
    "\n",
    "We can also assign a tuple to different values (reassignment)\n"
   ]
  },
  {
   "cell_type": "code",
   "execution_count": 39,
   "metadata": {
    "collapsed": false
   },
   "outputs": [
    {
     "name": "stdout",
     "output_type": "stream",
     "text": [
      "(4, 2, 3, [9, 5])\n",
      "('p', 'r', 'o', 'g', 'r', 'a', 'm', 'i', 'z')\n"
     ]
    }
   ],
   "source": [
    "\n",
    "my_tuple = (4, 2, 3, [6, 5])\n",
    "\n",
    "# we cannot change an element\n",
    "# If you uncomment line 8\n",
    "# you will get an error:\n",
    "# TypeError: 'tuple' object does not support item assignment\n",
    "\n",
    "#my_tuple[1] = 9\n",
    "\n",
    "# but item of mutable element can be changed\n",
    "# Output: (4, 2, 3, [9, 5])\n",
    "my_tuple[3][0] = 9\n",
    "print(my_tuple)\n",
    "\n",
    "# tuples can be reassigned\n",
    "# Output: ('p', 'r', 'o', 'g', 'r', 'a', 'm', 'i', 'z')\n",
    "my_tuple = ('p','r','o','g','r','a','m','i','z')\n",
    "print(my_tuple)"
   ]
  },
  {
   "cell_type": "markdown",
   "metadata": {},
   "source": [
    "## Removing elements from Tuple\n",
    "\n",
    "As one cannot change the elements of the `tuple`. \n",
    "Therefore, we cannot delete or remove items from a tuple.\n",
    "\n",
    "However, one can delete an entire `tuple`"
   ]
  },
  {
   "cell_type": "code",
   "execution_count": 46,
   "metadata": {
    "collapsed": false
   },
   "outputs": [
    {
     "name": "stdout",
     "output_type": "stream",
     "text": [
      "('p', 'r', 'o', 'g', 'r', 'a', 'm', 'i', 'z')\n"
     ]
    }
   ],
   "source": [
    "my_tuple = ('p','r','o','g','r','a','m','i','z')\n",
    "\n",
    "print(my_tuple)\n",
    "\n",
    "# can't delete items\n",
    "# if you uncomment line 8,\n",
    "# you will get an error:\n",
    "# TypeError: 'tuple' object doesn't support item deletion\n",
    "\n",
    "#del my_tuple[3]\n",
    "\n",
    "# can delete entire tuple\n",
    "# NameError: name 'my_tuple' is not defined\n",
    "del my_tuple\n",
    "\n",
    "# The statement below will throw an error\n",
    "# print my_tuple"
   ]
  },
  {
   "cell_type": "markdown",
   "metadata": {},
   "source": [
    "To explore more about `Tuples` refer: https://docs.python.org/3/tutorial/datastructures.html#tuples-and-sequences"
   ]
  }
 ],
 "metadata": {
  "kernelspec": {
   "display_name": "Python 2",
   "language": "python",
   "name": "python2"
  },
  "language_info": {
   "codemirror_mode": {
    "name": "ipython",
    "version": 2
   },
   "file_extension": ".py",
   "mimetype": "text/x-python",
   "name": "python",
   "nbconvert_exporter": "python",
   "pygments_lexer": "ipython2",
   "version": "2.7.6"
  }
 },
 "nbformat": 4,
 "nbformat_minor": 0
}
