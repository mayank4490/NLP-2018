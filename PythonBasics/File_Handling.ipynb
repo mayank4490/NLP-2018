{
 "cells": [
  {
   "cell_type": "markdown",
   "metadata": {},
   "source": [
    "# File Handling"
   ]
  },
  {
   "cell_type": "markdown",
   "metadata": {},
   "source": [
    "To open a file, one can use the in-built `open()` function. \n",
    "To open a file one can use the following statment:\n",
    "\n",
    "`file_object = open(filename, mode)`\n",
    "\n",
    "When you use the open function, it returns something called a **file object**. \n",
    "**File objects** contain methods and attributes that can be used to operate or manipulate on the file you opened. \n",
    "\n",
    "`open()` function accepts two arguments.\n",
    "- **filename** is the name of the file that is to be opened\n",
    "- **mode** describes the way in which one wants to open a file. Most commonly used \"modes\" to open a file are **read**, **write** and **append**. To open the file in \n",
    "    - **read** mode, the parameter is used is `r`\n",
    "    - **write** mode, the parameter is used is `w`,\n",
    "    - **append** mode, the parameter is used is `a`,\n",
    "\n",
    "To have a look at some other modes one can refer the docs https://docs.python.org/3/tutorial/inputoutput.html\n",
    "\n",
    "Following is an example:"
   ]
  },
  {
   "cell_type": "code",
   "execution_count": 27,
   "metadata": {
    "collapsed": false
   },
   "outputs": [
    {
     "name": "stdout",
     "output_type": "stream",
     "text": [
      "<open file 'WhipHoverTweets.txt', mode 'r' at 0x7f55b8138e40>\n"
     ]
    }
   ],
   "source": [
    "fPtr = open('WhipHoverTweets.txt', 'r')\n",
    "print fPtr"
   ]
  },
  {
   "cell_type": "markdown",
   "metadata": {},
   "source": [
    "**Note-:** The command `open('README.md', 'r')` doesn't return the contents of the file. It actually makes something called a `file object` -- https://docs.python.org/3/glossary.html#term-file-object."
   ]
  },
  {
   "cell_type": "markdown",
   "metadata": {},
   "source": [
    "## Reading a file\n",
    "\n",
    "The method `file.read()` reads the content of the file and returns a string containing all characters in the file.\n",
    "**Note-1:** The size of the file could be large enough to fit in the main memory. In such cases one can specify the number of characters to be read, or maybe read one line at a time.\n",
    "**Note-2:** Its always better to `close()` the file once you are done processing the file contents."
   ]
  },
  {
   "cell_type": "code",
   "execution_count": 28,
   "metadata": {
    "collapsed": false
   },
   "outputs": [
    {
     "name": "stdout",
     "output_type": "stream",
     "text": [
      "1500128720 Happy_Birthday_to_You Germanic_strong_verb Human_voice Middle_class \n",
      "1500132526 Politics Partisan_(political) \n",
      "1500215327 Happy_Birthday_to_You Friendship Chairman Manufacturing Caucus \n",
      "1500218055 Happy_Birthday_to_You Friendship Chairman Australian_Democrats Party_leaders_of_the_United_States_House_of_Representatives Task_force Poverty Income Economic_inequality Opportunity_(rover) \n",
      "1500227651 File_sharing Narrative Impact_event \n",
      "1500297327 History_of_the_United_States_Republican_Party History_of_the_United_States_Republican_Party Arab_Spring Impact_event United_States Family United_States Familie \n",
      "1500308034 Today_(U.S._TV_program) Floor United_States_House_of_Representatives United_States_House_of_Representatives Act_of_Parliament \n",
      "1500308105 United_States_federal_budget Complete_game \n",
      "1500309658 Happy_Birthday_to_You Friendship Family Social_vulnerability \n",
      "1500320032 United_States Patient_Protection_and_Affordable_Care_Act Film_adaptation Walter_Cronkite Insurance \n",
      "\n"
     ]
    }
   ],
   "source": [
    "fPtr = open('WhipHoverTweets.txt', 'r')\n",
    "\n",
    "print fPtr.read()\n",
    "\n",
    "fPtr.close()"
   ]
  },
  {
   "cell_type": "markdown",
   "metadata": {},
   "source": [
    "To read only specific number of characters from a file, one can add an **int** argument to the `read()` function as follows:"
   ]
  },
  {
   "cell_type": "code",
   "execution_count": 29,
   "metadata": {
    "collapsed": false
   },
   "outputs": [
    {
     "name": "stdout",
     "output_type": "stream",
     "text": [
      "1500128\n"
     ]
    }
   ],
   "source": [
    "fPtr = open('WhipHoverTweets.txt', 'r')\n",
    "\n",
    "print fPtr.read(7)"
   ]
  },
  {
   "cell_type": "code",
   "execution_count": 30,
   "metadata": {
    "collapsed": false
   },
   "outputs": [
    {
     "name": "stdout",
     "output_type": "stream",
     "text": [
      "1500128720 Happy_Birthday_to_You Germanic_strong_verb Human_voice Middle_class\n",
      "1500132526 Politics Partisan_(political)\n",
      "1500215327 Happy_Birthday_to_You Friendship Chairman Manufacturing Caucus\n",
      "1500218055 Happy_Birthday_to_You Friendship Chairman Australian_Democrats Party_leaders_of_the_United_States_House_of_Representatives Task_force Poverty Income Economic_inequality Opportunity_(rover)\n",
      "1500227651 File_sharing Narrative Impact_event\n",
      "1500297327 History_of_the_United_States_Republican_Party History_of_the_United_States_Republican_Party Arab_Spring Impact_event United_States Family United_States Familie\n",
      "1500308034 Today_(U.S._TV_program) Floor United_States_House_of_Representatives United_States_House_of_Representatives Act_of_Parliament\n",
      "1500308105 United_States_federal_budget Complete_game\n",
      "1500309658 Happy_Birthday_to_You Friendship Family Social_vulnerability\n",
      "1500320032 United_States Patient_Protection_and_Affordable_Care_Act Film_adaptation Walter_Cronkite Insurance\n"
     ]
    }
   ],
   "source": [
    "fPtr = open('WhipHoverTweets.txt', 'r')\n",
    "\n",
    "for line in fPtr:\n",
    "    print line.strip()"
   ]
  },
  {
   "cell_type": "markdown",
   "metadata": {},
   "source": [
    "## Reading multiple files from a folder\n",
    "\n",
    "Method `listdir(path)` returns a list of elements present in the directory given by path. \n",
    "The list is in arbitrary order. It does not include the special entries **.** and **..**.\n",
    "To use the `listdir(path)` method one has to import **os** module."
   ]
  },
  {
   "cell_type": "code",
   "execution_count": 31,
   "metadata": {
    "collapsed": false
   },
   "outputs": [
    {
     "name": "stdout",
     "output_type": "stream",
     "text": [
      "WhipHoverTweets.txt\n",
      "aguilarpeteTweets.txt\n",
      "WhipHoverTweets_copy.txt\n"
     ]
    }
   ],
   "source": [
    "import os\n",
    "\n",
    "for fileName in os.listdir(\"./\"):\n",
    "    # getting the list of text files only...\n",
    "    if fileName.endswith(\".txt\"): \n",
    "        print(fileName)"
   ]
  },
  {
   "cell_type": "markdown",
   "metadata": {},
   "source": [
    "## Writing to a file\n",
    "\n",
    "To write contents to a file one can use the in-built `write()` method which accepts a string as an argument.\n",
    "Here is an example which writes the content of one file to another line by line:"
   ]
  },
  {
   "cell_type": "code",
   "execution_count": 32,
   "metadata": {
    "collapsed": false
   },
   "outputs": [
    {
     "name": "stdout",
     "output_type": "stream",
     "text": [
      "1500128720 Happy_Birthday_to_You Germanic_strong_verb Human_voice Middle_class\n",
      "1500132526 Politics Partisan_(political)\n",
      "1500215327 Happy_Birthday_to_You Friendship Chairman Manufacturing Caucus\n",
      "1500218055 Happy_Birthday_to_You Friendship Chairman Australian_Democrats Party_leaders_of_the_United_States_House_of_Representatives Task_force Poverty Income Economic_inequality Opportunity_(rover)\n",
      "1500227651 File_sharing Narrative Impact_event\n",
      "1500297327 History_of_the_United_States_Republican_Party History_of_the_United_States_Republican_Party Arab_Spring Impact_event United_States Family United_States Familie\n",
      "1500308034 Today_(U.S._TV_program) Floor United_States_House_of_Representatives United_States_House_of_Representatives Act_of_Parliament\n",
      "1500308105 United_States_federal_budget Complete_game\n",
      "1500309658 Happy_Birthday_to_You Friendship Family Social_vulnerability\n",
      "1500320032 United_States Patient_Protection_and_Affordable_Care_Act Film_adaptation Walter_Cronkite Insurance\n"
     ]
    }
   ],
   "source": [
    "fPtrWrite = open('WhipHoverTweets_copy.txt', 'w')\n",
    "fPtrRead = open('WhipHoverTweets.txt', 'r')\n",
    "\n",
    "for line in fPtrRead:\n",
    "    fPtrWrite.write(line)\n",
    "    \n",
    "fPtrWrite.close()\n",
    "fPtrRead.close()\n",
    "\n",
    "# check if the contents are copied to the new file...\n",
    "fPtrRead = open('WhipHoverTweets_copy.txt', 'r')\n",
    "\n",
    "for line in fPtrRead:\n",
    "    print(line.strip())\n",
    "    \n",
    "fPtrRead.close()"
   ]
  },
  {
   "cell_type": "markdown",
   "metadata": {},
   "source": [
    "## split() method\n",
    "\n",
    "`someString.split(' ')` method is one of the most commonly used method to process the contents of the file.\n",
    "`split()` method accpets a **delimiter** character.\n",
    "In order to **split** the contents of the line on **space**, following is an example:"
   ]
  },
  {
   "cell_type": "code",
   "execution_count": 33,
   "metadata": {
    "collapsed": false
   },
   "outputs": [
    {
     "name": "stdout",
     "output_type": "stream",
     "text": [
      "['1500128720', 'Happy_Birthday_to_You', 'Germanic_strong_verb', 'Human_voice', 'Middle_class', '\\n']\n",
      "['1500132526', 'Politics', 'Partisan_(political)', '\\n']\n",
      "['1500215327', 'Happy_Birthday_to_You', 'Friendship', 'Chairman', 'Manufacturing', 'Caucus', '\\n']\n",
      "['1500218055', 'Happy_Birthday_to_You', 'Friendship', 'Chairman', 'Australian_Democrats', 'Party_leaders_of_the_United_States_House_of_Representatives', 'Task_force', 'Poverty', 'Income', 'Economic_inequality', 'Opportunity_(rover)', '\\n']\n",
      "['1500227651', 'File_sharing', 'Narrative', 'Impact_event', '\\n']\n",
      "['1500297327', 'History_of_the_United_States_Republican_Party', 'History_of_the_United_States_Republican_Party', 'Arab_Spring', 'Impact_event', 'United_States', 'Family', 'United_States', 'Familie', '\\n']\n",
      "['1500308034', 'Today_(U.S._TV_program)', 'Floor', 'United_States_House_of_Representatives', 'United_States_House_of_Representatives', 'Act_of_Parliament', '\\n']\n",
      "['1500308105', 'United_States_federal_budget', 'Complete_game', '\\n']\n",
      "['1500309658', 'Happy_Birthday_to_You', 'Friendship', 'Family', 'Social_vulnerability', '\\n']\n",
      "['1500320032', 'United_States', 'Patient_Protection_and_Affordable_Care_Act', 'Film_adaptation', 'Walter_Cronkite', 'Insurance', '\\n']\n"
     ]
    }
   ],
   "source": [
    "fPtr = open('WhipHoverTweets.txt', 'r')\n",
    "\n",
    "for line in fPtr:\n",
    "    fields = line.split(' ')\n",
    "    print fields\n",
    "    \n",
    "fPtr.close()"
   ]
  },
  {
   "cell_type": "markdown",
   "metadata": {},
   "source": [
    "The `split()` method returns a **list** of values that are split on the delimiter **space** "
   ]
  }
 ],
 "metadata": {
  "kernelspec": {
   "display_name": "Python 2",
   "language": "python",
   "name": "python2"
  },
  "language_info": {
   "codemirror_mode": {
    "name": "ipython",
    "version": 2
   },
   "file_extension": ".py",
   "mimetype": "text/x-python",
   "name": "python",
   "nbconvert_exporter": "python",
   "pygments_lexer": "ipython2",
   "version": "2.7.6"
  }
 },
 "nbformat": 4,
 "nbformat_minor": 0
}
